{
 "cells": [
  {
   "cell_type": "code",
   "execution_count": 1,
   "id": "42ac1003-d19a-4b2c-978f-339cec8e5e4e",
   "metadata": {},
   "outputs": [],
   "source": [
    "logistic_param={'penalty':['l1','l2','elasticnet','none'],'C':[0.01,0.1,1,10],'solver': ['liblinear','saga'],'max_iter':[100,200]}\n",
    "\n",
    "dt_param={'criterion':['gini','entropy'],'max_depth': [5,10],'min_samples_split': [2,5]}\n",
    "\n",
    "rf_param={'n_estimators':[100,200],'max_depth':[10,20],'min_samples_split':[2,4]}\n",
    "\n",
    "svm_param={'C':[0.1,1,10],'kernel':['linear','rbf'],'gamma':['scale','auto']}\n",
    "\n",
    "gaussian_param={'var_smoothing':[1e-09, 1e-08, 1e-07]}\n",
    "\n",
    "multinomial_param={'alpha':[0.1, 0.5, 1.0],'fit_prior':[True, False]}\n",
    "\n",
    "bernoulli_param={'alpha':[0.1, 0.5, 1.0],'fit_prior':[True, False],'binarize': [0.0, 0.5, 1.0]}\n",
    "\n"
   ]
  },
  {
   "cell_type": "code",
   "execution_count": 2,
   "id": "8f3884eb-3c8c-4550-8bfc-6301f5d8e526",
   "metadata": {},
   "outputs": [],
   "source": [
    "from sklearn.model_selection import GridSearchCV\n",
    "from sklearn.linear_model import LogisticRegression\n",
    "from sklearn.tree import DecisionTreeClassifier\n",
    "from sklearn.ensemble import RandomForestClassifier\n",
    "from sklearn.svm import SVC\n",
    "from sklearn.naive_bayes import GaussianNB\n",
    "from sklearn.naive_bayes import MultinomialNB\n",
    "from sklearn.naive_bayes import BernoulliNB"
   ]
  },
  {
   "cell_type": "code",
   "execution_count": 3,
   "id": "7d7d2749-0fb7-4696-8026-5ba02832ec82",
   "metadata": {},
   "outputs": [],
   "source": [
    "logistic_grid=GridSearchCV(LogisticRegression(),logistic_param,refit=True,verbose=3,n_jobs=-1,scoring='f1_weighted')\n",
    "\n",
    "dt_grid=GridSearchCV(DecisionTreeClassifier(),dt_param,refit=True,verbose=3,n_jobs=-1,scoring='f1_weighted')\n",
    "\n",
    "rf_grid=GridSearchCV(RandomForestClassifier(),rf_param,refit=True,verbose=3,n_jobs=-1,scoring='f1_weighted')\n",
    "\n",
    "svm_grid=GridSearchCV(SVC(),svm_param,refit=True,verbose=3,n_jobs=-1,scoring='f1_weighted')\n",
    "\n",
    "gaussian_grid=GridSearchCV(GaussianNB(),gaussian_param,refit=True,verbose=3,n_jobs=-1,scoring='f1_weighted')\n",
    "\n",
    "multinomial_grid=GridSearchCV(MultinomialNB(),multinomial_param,refit=True,verbose=3,n_jobs=-1,scoring='f1_weighted')\n",
    "\n",
    "bernoulli_grid=GridSearchCV(BernoulliNB(),bernoulli_param,refit=True,verbose=3,n_jobs=-1,scoring='f1_weighted')\n",
    "\n",
    "\n"
   ]
  },
  {
   "cell_type": "code",
   "execution_count": 5,
   "id": "db7d3a24-bb06-49f5-8956-2e53043ae110",
   "metadata": {},
   "outputs": [],
   "source": [
    "import pickle\n",
    "all_clf_grid={'logistic':logistic_grid,'dt':dt_grid,'rf':rf_grid,'svm':svm_grid,'gaussian':gaussian_grid,'multinomial':multinomial_grid,'bernoulli':bernoulli_grid}\n",
    "with open(\"all_classification_param_in_one.pkl\",'wb')as f:pickle.dump(all_clf_grid,f)\n"
   ]
  },
  {
   "cell_type": "code",
   "execution_count": null,
   "id": "d7d8ffef-1c3a-434d-817d-15406131be65",
   "metadata": {},
   "outputs": [],
   "source": []
  }
 ],
 "metadata": {
  "kernelspec": {
   "display_name": "Python [conda env:base] *",
   "language": "python",
   "name": "conda-base-py"
  },
  "language_info": {
   "codemirror_mode": {
    "name": "ipython",
    "version": 3
   },
   "file_extension": ".py",
   "mimetype": "text/x-python",
   "name": "python",
   "nbconvert_exporter": "python",
   "pygments_lexer": "ipython3",
   "version": "3.12.7"
  }
 },
 "nbformat": 4,
 "nbformat_minor": 5
}
